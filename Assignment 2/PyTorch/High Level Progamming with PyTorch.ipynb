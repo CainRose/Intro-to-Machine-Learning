{
 "cells": [
  {
   "cell_type": "code",
   "execution_count": 2,
   "metadata": {
    "collapsed": false
   },
   "outputs": [],
   "source": [
    "from torch.autograd import Variable\n",
    "import torch\n",
    "import numpy as np\n",
    "import matplotlib.pyplot as plt\n",
    "\n",
    "\n",
    "\n",
    "from scipy.io import loadmat\n",
    "\n",
    "\n",
    "\n",
    "%matplotlib inline  \n",
    "\n",
    "M = loadmat(\"mnist_all.mat\")\n",
    "\n",
    "\n",
    "\n",
    "def get_test(M):\n",
    "    batch_xs = np.zeros((0, 28*28))\n",
    "    batch_y_s = np.zeros( (0, 10))\n",
    "    \n",
    "    test_k =  [\"test\"+str(i) for i in range(10)]\n",
    "    for k in range(10):\n",
    "        batch_xs = np.vstack((batch_xs, ((np.array(M[test_k[k]])[:])/255.)  ))\n",
    "        one_hot = np.zeros(10)\n",
    "        one_hot[k] = 1\n",
    "        batch_y_s = np.vstack((batch_y_s,   np.tile(one_hot, (len(M[test_k[k]]), 1))   ))\n",
    "    return batch_xs, batch_y_s\n",
    "\n",
    "\n",
    "def get_train(M):\n",
    "    batch_xs = np.zeros((0, 28*28))\n",
    "    batch_y_s = np.zeros( (0, 10))\n",
    "    \n",
    "    train_k =  [\"train\"+str(i) for i in range(10)]\n",
    "    for k in range(10):\n",
    "        batch_xs = np.vstack((batch_xs, ((np.array(M[train_k[k]])[:])/255.)  ))\n",
    "        one_hot = np.zeros(10)\n",
    "        one_hot[k] = 1\n",
    "        batch_y_s = np.vstack((batch_y_s,   np.tile(one_hot, (len(M[train_k[k]]), 1))   ))\n",
    "    return batch_xs, batch_y_s\n",
    "        \n",
    "\n",
    "train_x, train_y = get_train(M)\n",
    "test_x, test_y = get_test(M)\n",
    "\n",
    "\n",
    "\n",
    "train_x, train_y = get_train(M)\n",
    "test_x, test_y = get_test(M)\n",
    "\n",
    "dim_x = 28*28\n",
    "dim_h = 20\n",
    "dim_out = 10\n",
    "\n",
    "dtype_float = torch.cuda.FloatTensor\n",
    "dtype_long = torch.cuda.LongTensor\n",
    "\n",
    "\n",
    "\n",
    "################################################################################\n",
    "#Subsample the training set for faster training\n",
    "\n",
    "train_idx = np.random.permutation(range(train_x.shape[0]))[:1000]\n",
    "x = Variable(torch.from_numpy(train_x[train_idx]), requires_grad=False).type(dtype_float)\n",
    "y_classes = Variable(torch.from_numpy(np.argmax(train_y[train_idx], 1)), requires_grad=False).type(dtype_long)\n",
    "#################################################################################\n"
   ]
  },
  {
   "cell_type": "markdown",
   "metadata": {},
   "source": [
    "`x`, `y`, and `y_classes` are PyTorch Variables. We will now define the neural network model. We'll use `toch.nn.Sequential`"
   ]
  },
  {
   "cell_type": "code",
   "execution_count": 3,
   "metadata": {
    "collapsed": true
   },
   "outputs": [],
   "source": [
    "model = torch.nn.Sequential(\n",
    "    torch.nn.Linear(dim_x, dim_h),\n",
    "    torch.nn.ReLU(),\n",
    "    torch.nn.Linear(dim_h, dim_out),\n",
    ").cuda()"
   ]
  },
  {
   "cell_type": "markdown",
   "metadata": {},
   "source": [
    "`model` can be used to apply the network to `Variable` inputs.\n",
    "\n",
    "We'll define a loss function using `torch.nn.CrossEntropyLoss()`, which computes the cross entropy from the logits  of the class probability (i.e., outputs of the softmax) and the class labels (i.e., the average negative log-probability of the correct answer)."
   ]
  },
  {
   "cell_type": "code",
   "execution_count": 4,
   "metadata": {
    "collapsed": true
   },
   "outputs": [],
   "source": [
    "loss_fn = torch.nn.CrossEntropyLoss().cuda()"
   ]
  },
  {
   "cell_type": "markdown",
   "metadata": {},
   "source": [
    "### Training the model\n",
    "\n",
    "We will now use Adam, a variant of Gradient Descent, to optimize the model"
   ]
  },
  {
   "cell_type": "code",
   "execution_count": 7,
   "metadata": {
    "collapsed": false
   },
   "outputs": [
    {
     "name": "stdout",
     "output_type": "stream",
     "text": [
      "Variable containing:\n-1.4470e+01 -4.0443e+01 -1.7291e+01  ...  -4.6621e+01 -1.6730e+01 -5.3156e+01\n-1.3532e+01  1.6368e+01 -5.3631e+00  ...  -8.1931e+00 -3.4897e+00 -1.2750e+01\n 6.0502e+00 -6.1123e+01 -1.0601e+01  ...  -1.2347e+01 -9.0614e+00 -7.4675e+01\n                ...                   ⋱                   ...                \n-2.0236e+01 -2.9125e+01 -1.5509e+01  ...  -4.8279e+01 -1.2645e+01 -4.3237e+01\n-3.0659e+01 -5.1722e+01  1.9465e+01  ...  -1.7809e+01 -2.0772e+01 -9.0256e+01\n 7.9586e-02 -4.2336e+01  1.5401e+01  ...  -2.5439e+01 -2.6203e+01 -5.5899e+01\n[torch.cuda.FloatTensor of size 1000x10 (GPU 0)]\n\nVariable containing:\n 3\n 1\n 0\n⋮ \n 3\n 2\n 2\n[torch.cuda.LongTensor of size 1000 (GPU 0)]\n\n\n\nVariable containing:\n-1.4850e+01 -4.0783e+01 -1.7522e+01  ...  -4.6973e+01 -1.7065e+01 -5.3463e+01\n-1.3680e+01  1.6241e+01 -5.4455e+00  ...  -8.3209e+00 -3.6173e+00 -1.2872e+01\n 5.7770e+00 -6.1358e+01 -1.0766e+01  ...  -1.2590e+01 -9.3014e+00 -7.4913e+01\n                ...                   ⋱                   ...                \n-2.0594e+01 -2.9454e+01 -1.5729e+01  ...  -4.8615e+01 -1.2953e+01 -4.3529e+01\n-3.1199e+01 -5.2213e+01  1.9167e+01  ...  -1.8278e+01 -2.1260e+01 -9.0708e+01\n-2.1602e-01 -4.2594e+01  1.5254e+01  ...  -2.5701e+01 -2.6491e+01 -5.6154e+01\n[torch.cuda.FloatTensor of size 1000x10 (GPU 0)]\n\nVariable containing:\n 3\n 1\n 0\n⋮ \n 3\n 2\n 2\n[torch.cuda.LongTensor of size 1000 (GPU 0)]\n\n\n\nVariable containing:\n -15.2588  -41.1144  -18.0390  ...   -47.2906  -17.4652  -53.9243\n -13.8501   16.1309   -5.6379  ...    -8.4270   -3.7660  -13.0498\n   5.4929  -61.6002  -11.1414  ...   -12.7937   -9.5915  -75.2690\n             ...                ⋱                ...             \n -20.9833  -29.7723  -16.2239  ...   -48.9188  -13.3245  -43.9693\n -31.7848  -52.6894   18.4647  ...   -18.6548  -21.8540  -91.3900\n  -0.5345  -42.8629   14.8948  ...   -25.9450  -26.8327  -56.5157\n[torch.cuda.FloatTensor of size 1000x10 (GPU 0)]\n\nVariable containing:\n 3\n 1\n 0\n⋮ \n 3\n 2\n 2\n[torch.cuda.LongTensor of size 1000 (GPU 0)]\n\n\n\nVariable containing:\n-1.5715e+01 -4.1560e+01 -1.8562e+01  ...  -4.7844e+01 -1.7890e+01 -5.4099e+01\n-1.4030e+01  1.5982e+01 -5.8258e+00  ...  -8.6166e+00 -3.9231e+00 -1.3125e+01\n 5.1796e+00 -6.1923e+01 -1.1513e+01  ...  -1.3178e+01 -9.8998e+00 -7.5430e+01\n                ...                   ⋱                   ...                \n-2.1420e+01 -3.0202e+01 -1.6729e+01  ...  -4.9447e+01 -1.3715e+01 -4.4130e+01\n-3.2437e+01 -5.3321e+01  1.7770e+01  ...  -1.9378e+01 -2.2455e+01 -9.1642e+01\n-8.7695e-01 -4.3195e+01  1.4554e+01  ...  -2.6345e+01 -2.7218e+01 -5.6700e+01\n[torch.cuda.FloatTensor of size 1000x10 (GPU 0)]\n\nVariable containing:\n 3\n 1\n 0\n⋮ \n 3\n 2\n 2\n[torch.cuda.LongTensor of size 1000 (GPU 0)]\n\n\n\nVariable containing:\n-1.6176e+01 -4.2043e+01 -1.8920e+01  ...  -4.8410e+01 -1.8366e+01 -5.4622e+01\n-1.4226e+01  1.5820e+01 -5.9602e+00  ...  -8.8201e+00 -4.0985e+00 -1.3326e+01\n 4.8657e+00 -6.2277e+01 -1.1763e+01  ...  -1.3568e+01 -1.0248e+01 -7.5839e+01\n                ...                   ⋱                   ...                \n-2.1862e+01 -3.0667e+01 -1.7076e+01  ...  -4.9989e+01 -1.4152e+01 -4.4626e+01\n-3.3102e+01 -5.4014e+01  1.7329e+01  ...  -2.0106e+01 -2.3148e+01 -9.2403e+01\n-1.2233e+00 -4.3576e+01  1.4336e+01  ...  -2.6757e+01 -2.7634e+01 -5.7118e+01\n[torch.cuda.FloatTensor of size 1000x10 (GPU 0)]\n\nVariable containing:\n 3\n 1\n 0\n⋮ \n 3\n 2\n 2\n[torch.cuda.LongTensor of size 1000 (GPU 0)]\n\n\n\n"
     ]
    }
   ],
   "source": [
    "learning_rate = 1e-2\n",
    "optimizer = torch.optim.Adam(model.parameters(), lr=learning_rate)\n",
    "for t in range(5):\n",
    "    y_pred = model(x)\n",
    "    print(y_pred)\n",
    "    print(y_classes)\n",
    "    print('\\n')\n",
    "    loss = loss_fn(y_pred, y_classes)\n",
    "    \n",
    "    model.zero_grad()  # Zero out the previous gradient computation\n",
    "    loss.backward()    # Compute the gradient\n",
    "    optimizer.step()   # Use the gradient information to \n",
    "                       # make a step"
   ]
  },
  {
   "cell_type": "markdown",
   "metadata": {},
   "source": [
    "Now, let's make predictions for the test set"
   ]
  },
  {
   "cell_type": "code",
   "execution_count": 25,
   "metadata": {
    "collapsed": false
   },
   "outputs": [],
   "source": [
    "x = Variable(torch.from_numpy(test_x), requires_grad=False).type(dtype_float)"
   ]
  },
  {
   "cell_type": "code",
   "execution_count": 26,
   "metadata": {
    "collapsed": false
   },
   "outputs": [],
   "source": [
    "y_pred = model(x).data.cpu().numpy()"
   ]
  },
  {
   "cell_type": "markdown",
   "metadata": {},
   "source": [
    "Let's now look at the performance:"
   ]
  },
  {
   "cell_type": "code",
   "execution_count": 27,
   "metadata": {
    "collapsed": false
   },
   "outputs": [
    {
     "data": {
      "text/plain": [
       "0.8752"
      ]
     },
     "execution_count": 27,
     "metadata": {},
     "output_type": "execute_result"
    }
   ],
   "source": [
    "np.mean(np.argmax(y_pred, 1) == np.argmax(test_y, 1))"
   ]
  },
  {
   "cell_type": "markdown",
   "metadata": {},
   "source": [
    "Let's explore the weights a little bit. We can access the weights like this:"
   ]
  },
  {
   "cell_type": "code",
   "execution_count": 28,
   "metadata": {
    "collapsed": false
   },
   "outputs": [
    {
     "data": {
      "text/plain": [
       "Parameter containing:\n 2.1192e-02  3.0855e-04 -7.5280e-03  ...  -2.9077e-02 -9.1271e-03 -1.3688e-02\n-2.8707e-02 -1.0579e-02  1.4861e-02  ...  -4.7522e-03 -2.1918e-03  2.0067e-02\n-2.2920e-02  1.5325e-02  1.5064e-02  ...   9.1217e-03 -2.4692e-02 -5.2091e-05\n                ...                   ⋱                   ...                \n-3.2696e-02 -2.9212e-03  2.3323e-02  ...  -3.6056e-03 -2.8123e-02 -2.3101e-02\n-1.5755e-02  2.1679e-02  1.8986e-02  ...   1.0920e-03  3.2459e-02 -1.7036e-02\n 9.8958e-03 -1.5136e-02 -3.0856e-02  ...  -2.2859e-03  2.7279e-02  2.5824e-02\n[torch.cuda.FloatTensor of size 20x784 (GPU 0)]"
      ]
     },
     "execution_count": 28,
     "metadata": {},
     "output_type": "execute_result"
    }
   ],
   "source": [
    "model[0].weight"
   ]
  },
  {
   "cell_type": "markdown",
   "metadata": {},
   "source": [
    "Let's look at the weights associated with unit 10"
   ]
  },
  {
   "cell_type": "code",
   "execution_count": 30,
   "metadata": {
    "collapsed": false
   },
   "outputs": [
    {
     "data": {
      "text/plain": [
       "(784,)"
      ]
     },
     "execution_count": 30,
     "metadata": {},
     "output_type": "execute_result"
    }
   ],
   "source": [
    "model[0].weight.data.cpu().numpy()[10, :].shape"
   ]
  },
  {
   "cell_type": "code",
   "execution_count": 32,
   "metadata": {
    "collapsed": false
   },
   "outputs": [
    {
     "data": {
      "text/plain": [
       "<matplotlib.image.AxesImage at 0x173802c95f8>"
      ]
     },
     "execution_count": 32,
     "metadata": {},
     "output_type": "execute_result"
    },
    {
     "data": {
      "image/png": "[encoded data removed]",
      "text/plain": [
       "<matplotlib.figure.Figure at 0x17380240128>"
      ]
     },
     "metadata": {},
     "output_type": "display_data"
    }
   ],
   "source": [
    "plt.imshow(model[0].weight.data.cpu().numpy()[10, :].reshape((28, 28)), cmap=plt.cm.coolwarm)"
   ]
  },
  {
   "cell_type": "code",
   "execution_count": 33,
   "metadata": {
    "collapsed": false
   },
   "outputs": [
    {
     "data": {
      "text/plain": [
       "<matplotlib.image.AxesImage at 0x17380350400>"
      ]
     },
     "execution_count": 33,
     "metadata": {},
     "output_type": "execute_result"
    },
    {
     "data": {
      "image/png": "[encoded data removed]",
      "text/plain": [
       "<matplotlib.figure.Figure at 0x17380240160>"
      ]
     },
     "metadata": {},
     "output_type": "display_data"
    }
   ],
   "source": [
    "plt.imshow(model[0].weight.data.cpu().numpy()[12, :].reshape((28, 28)), cmap=plt.cm.coolwarm)"
   ]
  },
  {
   "cell_type": "code",
   "execution_count": null,
   "metadata": {},
   "outputs": [],
   "source": []
  }
 ],
 "metadata": {
  "kernelspec": {
   "display_name": "Python 3",
   "language": "python",
   "name": "python3"
  },
  "language_info": {
   "codemirror_mode": {
    "name": "ipython",
    "version": 3
   },
   "file_extension": ".py",
   "mimetype": "text/x-python",
   "name": "python",
   "nbconvert_exporter": "python",
   "pygments_lexer": "ipython3",
   "version": "3.5.2"
  }
 },
 "nbformat": 4,
 "nbformat_minor": 2
}
